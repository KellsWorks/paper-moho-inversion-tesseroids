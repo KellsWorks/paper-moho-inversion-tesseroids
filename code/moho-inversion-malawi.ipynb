{
 "cells": [
  {
   "cell_type": "code",
   "execution_count": 1,
   "metadata": {},
   "outputs": [],
   "source": [
    "# Insert the plots into the notebook\n",
    "%matplotlib inline"
   ]
  },
  {
   "cell_type": "code",
   "execution_count": 8,
   "metadata": {},
   "outputs": [],
   "source": [
    "from __future__ import division\n",
    "import datetime\n",
    "import zipfile\n",
    "import cPickle as pickle\n",
    "import itertools\n",
    "import numpy as np\n",
    "import matplotlib.pyplot as plt\n",
    "from mpl_toolkits.basemap import Basemap\n",
    "import multiprocessing\n",
    "import seaborn  # Makes the default style of the plots nicer"
   ]
  },
  {
   "cell_type": "code",
   "execution_count": 9,
   "metadata": {},
   "outputs": [],
   "source": [
    "import warnings\n",
    "warnings.simplefilter('ignore')"
   ]
  },
  {
   "cell_type": "code",
   "execution_count": 10,
   "metadata": {},
   "outputs": [],
   "source": [
    "from fatiando.vis import mpl\n",
    "from fatiando.gravmag import tesseroid\n",
    "from fatiando import gridder, utils\n",
    "from fatiando.inversion import Smoothness2D\n",
    "import fatiando"
   ]
  },
  {
   "cell_type": "code",
   "execution_count": 11,
   "metadata": {},
   "outputs": [
    {
     "name": "stdout",
     "output_type": "stream",
     "text": [
      "Version of Fatiando a Terra used: 0.5\n"
     ]
    }
   ],
   "source": [
    "print(\"Version of Fatiando a Terra used: {}\".format(fatiando.__version__))"
   ]
  },
  {
   "cell_type": "code",
   "execution_count": 12,
   "metadata": {},
   "outputs": [],
   "source": [
    "from datasets import fetch_assumpcao_moho_points\n",
    "from mohoinv import (MohoGravityInvSpherical, TesseroidRelief, make_mesh,\n",
    "                     split_data, score_test_set, score_seismic_constraints, \n",
    "                     score_all, fit_all, predict_seismic)"
   ]
  },
  {
   "cell_type": "code",
   "execution_count": 7,
   "metadata": {},
   "outputs": [
    {
     "name": "stdout",
     "output_type": "stream",
     "text": [
      "Number of cores: 8\n"
     ]
    }
   ],
   "source": [
    "ncpu = multiprocessing.cpu_count()\n",
    "print(\"Number of cores: {}\".format(ncpu))"
   ]
  },
  {
   "cell_type": "code",
   "execution_count": 13,
   "metadata": {},
   "outputs": [
    {
     "name": "stdout",
     "output_type": "stream",
     "text": [
      "Number of data points in lat and lon: [5, 3]\n"
     ]
    }
   ],
   "source": [
    "with open('../data/processed-data-malawi.txt') as f:\n",
    "    for i in range(3):  # Skip the first 2 header lines\n",
    "        line = f.readline()\n",
    "    full_shape = [int(x) for x in line.split()[1:]]\n",
    "    full_lat, full_lon, full_height, full_grav = np.loadtxt(f, usecols=[0, 1, 2, -1], \n",
    "                                                            unpack=True)\n",
    "    full_data = [full_lat, full_lon, full_height, full_grav]\n",
    "print('Number of data points in lat and lon: {}'.format(full_shape))"
   ]
  },
  {
   "cell_type": "code",
   "execution_count": 14,
   "metadata": {},
   "outputs": [],
   "source": [
    "full_area = (full_lat.min(), full_lat.max(), full_lon.min(), full_lon.max())\n",
    "bm = Basemap(projection='cyl', \n",
    "             llcrnrlon=full_area[2], urcrnrlon=full_area[3], \n",
    "             llcrnrlat=full_area[0], urcrnrlat=full_area[1],\n",
    "             resolution='l')"
   ]
  },
  {
   "cell_type": "code",
   "execution_count": 16,
   "metadata": {},
   "outputs": [
    {
     "data": {
      "image/png": "[encoded data removed]",
      "text/plain": [
       "<Figure size 504x432 with 2 Axes>"
      ]
     },
     "metadata": {
      "needs_background": "light"
     },
     "output_type": "display_data"
    }
   ],
   "source": [
    "x, y = bm(full_lon, full_lat)\n",
    "ranges = np.abs([full_grav.min(), full_grav.max()]).max()\n",
    "\n",
    "plt.figure(figsize=(7, 6))\n",
    "plt.title('Malawi Anomaly')\n",
    "bm.contourf(x, y, full_grav, 60, tri=True, cmap='RdBu_r', vmin=-ranges, vmax=ranges)\n",
    "plt.colorbar(pad=0.01, aspect=50).set_label('mGal')\n",
    "bm.drawmeridians(np.arange(-80, -30, 10), labels=[0, 0, 0, 1], linewidth=0.2)\n",
    "bm.drawparallels(np.arange(-50, 30, 15), labels=[1, 0, 0, 0], linewidth=0.2)\n",
    "plt.tight_layout()"
   ]
  },
  {
   "cell_type": "code",
   "execution_count": null,
   "metadata": {},
   "outputs": [],
   "source": []
  }
 ],
 "metadata": {
  "kernelspec": {
   "display_name": "Python 2",
   "language": "python",
   "name": "python2"
  },
  "language_info": {
   "codemirror_mode": {
    "name": "ipython",
    "version": 2
   },
   "file_extension": ".py",
   "mimetype": "text/x-python",
   "name": "python",
   "nbconvert_exporter": "python",
   "pygments_lexer": "ipython2",
   "version": "2.7.15"
  }
 },
 "nbformat": 4,
 "nbformat_minor": 2
}
